{
 "cells": [
  {
   "cell_type": "code",
   "execution_count": 25,
   "id": "79503440",
   "metadata": {},
   "outputs": [
    {
     "name": "stdout",
     "output_type": "stream",
     "text": [
      "['Bhanuvardhan', 'Srinivas', 'Srikanth', 'Tarunanand']\n"
     ]
    }
   ],
   "source": [
    "#LISTS\n",
    "my_list = [\"Saiabhinay\", \"Vinay\", \"Srikanth\"]\n",
    "\n",
    "# Adding (append)\n",
    "my_list.append(\"Tarunanand\")  # Adds \"Tarunanand\" to the end\n",
    "\n",
    "# Removing (pop)\n",
    "removed_fruit = my_list.pop(0)  # Removes \"Vinay\" at index 1 and stores it in removed_fruit\n",
    "\n",
    "# Modifying (slicing and assignment)\n",
    "my_list[0:1] = [\"Bhanuvardhan\", \"Srinivas\"]  # Replaces \"Saiabhinay\" and \"Vinay\" with \"Bhanuvardhan\" and \"Srinivas\"\n",
    "\n",
    "print(my_list)  # Output: ['Bhanuvardhan', 'Srinivas', 'Srikanth', 'Tarunanand']\n"
   ]
  },
  {
   "cell_type": "code",
   "execution_count": 26,
   "id": "955b5e9d",
   "metadata": {},
   "outputs": [
    {
     "name": "stdout",
     "output_type": "stream",
     "text": [
      "{'name': 'Bhanu', 'city': 'Hyderabad', 'occupation': 'Software Engineer'}\n"
     ]
    }
   ],
   "source": [
    "#DICTIONARIES\n",
    "my_dict = {\"name\": \"Bhanu\", \"age\": 21, \"city\": \"Eluru\"}\n",
    "\n",
    "# Adding (key-value assignment)\n",
    "my_dict[\"occupation\"] = \"Software Engineer\"  # Adds a new key-value pair\n",
    "\n",
    "# Removing (del)\n",
    "del my_dict[\"age\"]  # Deletes the key-value pair with the key \"age\"\n",
    "\n",
    "# Modifying (assignment to existing key)\n",
    "my_dict[\"city\"] = \"Hyderabad\"  # Updates the value associated with the key \"city\"\n",
    "\n",
    "print(my_dict)  # Output: {'name': 'Bhanu', 'city': 'Hyderabad', 'occupation': 'Software Engineer'}\n"
   ]
  },
  {
   "cell_type": "code",
   "execution_count": 27,
   "id": "c05e1ce9",
   "metadata": {},
   "outputs": [
    {
     "name": "stdout",
     "output_type": "stream",
     "text": [
      "('Bhanu', 'Abhi', 'Anand')\n",
      "('Bhanu', 'Abhi', 'Anand', 'Srinu')\n",
      "('Bhanu', 'Abhi')\n",
      "('Srikanth', 'Abhi', 'Anand')\n"
     ]
    }
   ],
   "source": [
    "#TUPLES\n",
    "my_tuple = (\"Bhanu\", \"Abhi\", \"Anand\")\n",
    "\n",
    "# Adding (create a new tuple)  # Can't modify existing tuple\n",
    "new_tuple = my_tuple + (\"Srinu\",)  # Creates a new tuple with \"Srinu\" appended\n",
    "                                    # Note the trailing comma after \"Srinu\"\n",
    "\n",
    "# Removing (create a new tuple)  # Can't modify existing tuple\n",
    "name_without_Anand = my_tuple[0:2]  # Creates a new tuple without \"Anand\"\n",
    "\n",
    "# Modifying (create a new tuple)  # Can't modify existing tuple\n",
    "modified_tuple = (\"Srikanth\",) + my_tuple[1:]  # Creates a new tuple with \"Srikanth\" at the beginning\n",
    "\n",
    "print(my_tuple)  # Output: ('Bhanu', 'Abhi', 'Anand')  # Original tuple remains unchanged\n",
    "print(new_tuple)  # Output: ('Bhanu', 'Abhi', 'Anand', 'Srinu')\n",
    "print(name_without_Anand)  # Output: ('Bhanu', 'Abhi')\n",
    "print(modified_tuple)  # Output: ('Srikanth', 'Abhi', 'Anand')\n"
   ]
  },
  {
   "cell_type": "code",
   "execution_count": null,
   "id": "f2f6da49",
   "metadata": {},
   "outputs": [],
   "source": []
  },
  {
   "cell_type": "code",
   "execution_count": null,
   "id": "f249fae9",
   "metadata": {},
   "outputs": [],
   "source": []
  }
 ],
 "metadata": {
  "kernelspec": {
   "display_name": "Python 3 (ipykernel)",
   "language": "python",
   "name": "python3"
  },
  "language_info": {
   "codemirror_mode": {
    "name": "ipython",
    "version": 3
   },
   "file_extension": ".py",
   "mimetype": "text/x-python",
   "name": "python",
   "nbconvert_exporter": "python",
   "pygments_lexer": "ipython3",
   "version": "3.9.13"
  }
 },
 "nbformat": 4,
 "nbformat_minor": 5
}
